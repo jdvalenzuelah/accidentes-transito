{
 "cells": [
  {
   "cell_type": "markdown",
   "metadata": {},
   "source": [
    "# Accidentes de transito INE\n",
    "\n",
    "## Objetivos\n",
    "\n",
    "- Como mejorar el data set para prevenir accidentes de transito\n",
    "\n",
    "### Para lograr el objetivo necesitamos\n",
    "\n",
    "- Descubrir cuales son las causas de los accidentes de transito\n",
    "- Identificar que informacion es necesaria para identificar las causas\n",
    "- Descubrir como se previenen los accidentes de transito\n",
    "\n",
    "# Causas de los accidentes de transito\n",
    "\n",
    "Segun aseguradora mapfre las principales causas de accidentes de transito son:\n",
    " 1. Fallas mecanicas\n",
    " 2. Conductores ebrios\n",
    " 3. Sueño\n",
    " 4. Uso de telefono\n",
    " 5. Exceso de velocidad\n",
    " 6. Pasar el semáforo en rojo / Alto\n",
    " 7. Distracciones\n",
    " \n",
    "Ademas la organizacion mundial de la salud agrega como un factor para los accidentes de transito las infraestructura vial.\n",
    "\n",
    "\n",
    "https://www.who.int/es/news-room/fact-sheets/detail/road-traffic-injuries \n",
    "https://www.mapfre.com.pe/viviendo-en-confianza/seguridad-vial/7-principales-causas-accidentes-auto/\n",
    "\n",
    "\n",
    "# Datos de investigacion\n",
    "\n",
    "Datos proveeidos por INE https://www.ine.gob.gt/estadisticasine/index.php/usuario/hechos_transito_menu del año 2009 a 2019\n",
    "\n",
    "### Que datos se incluyen en los datos de la INE:\n",
    "\n",
    "- Número de correlativo\n",
    "- Año de ocurrencia\n",
    "- Día de ocurrencia\n",
    "- Hora de ocurrencia\n",
    "- Grupo de hora\n",
    "- Grupo de hora mañana, tarde y noche\n",
    "- Mes de ocurrencia\n",
    "- Día de la semana de ocurrencia\n",
    "- Departamento de ocurrencia\n",
    "- Municipio de ocurrencia\n",
    "- Zona de ocurrencia\n",
    "- Tipo de vehículo\n",
    "- Marca del vehículo\n",
    "- Color del vehículo\n",
    "- Modelo del vehículo\n",
    "- Grupo modelo del vehículo\n",
    "- Tipo de evento\n",
    "\n",
    "### Que datos son solicitados por las aseguradoras\n",
    "\n",
    "- Datos del vehiculo asegurado:\n",
    "    - Marca del vehiculo\n",
    "    - Tipo del vehiculo\n",
    "    - Modelo del vehiculo\n",
    "    - Color del vehiculo\n",
    "- Datos del accidente\n",
    "    - Edad del conductor\n",
    "    - Fecha\n",
    "    - Hora\n",
    "    - Lado de la calle (izquierdo/derecho)\n",
    "    - Velocidad\n",
    "    - Direccion en la que se traslada (vehiculos involucrados en el accidente)\n",
    "    - Causa del accidente\n",
    "    - Vehiculo que circulaba con preferencia de via"
   ]
  },
  {
   "cell_type": "markdown",
   "metadata": {},
   "source": [
    "# Limpieza de datos\n",
    "\n",
    "TODO:\n",
    "- Juntar todos los años\n",
    "- Mejorar limpieza"
   ]
  },
  {
   "cell_type": "code",
   "execution_count": 5,
   "metadata": {},
   "outputs": [],
   "source": [
    "import krangl.*"
   ]
  },
  {
   "cell_type": "code",
   "execution_count": 6,
   "metadata": {},
   "outputs": [],
   "source": [
    "val events = DataFrame.readCSV(\"hechos-transito-2019.csv\")"
   ]
  },
  {
   "cell_type": "code",
   "execution_count": 9,
   "metadata": {},
   "outputs": [
    {
     "data": {
      "text/html": [
       "<html><body><table><tr><th style=\"text-align:left\">núm_corre</th><th style=\"text-align:left\">año_ocu</th><th style=\"text-align:left\">día_ocu</th><th style=\"text-align:left\">hora_ocu</th><th style=\"text-align:left\">g_hora</th><th style=\"text-align:left\">g_hora_5</th><th style=\"text-align:left\">mes_ocu</th><th style=\"text-align:left\">día_sem_ocu</th><th style=\"text-align:left\">depto_ocu</th><th style=\"text-align:left\">mupio_ocu</th><th style=\"text-align:left\">zona_ocu</th><th style=\"text-align:left\">tipo_veh</th><th style=\"text-align:left\">marca_veh</th><th style=\"text-align:left\">color_veh</th><th style=\"text-align:left\">modelo_veh</th><th style=\"text-align:left\">g_modelo_veh</th><th style=\"text-align:left\">tipo_eve</th></tr><tr><td style=\"text-align:left\" title=\"1\">1</td><td style=\"text-align:left\" title=\"2019\">2019</td><td style=\"text-align:left\" title=\"1\">1</td><td style=\"text-align:left\" title=\"5\">5</td><td style=\"text-align:left\" title=\"1\">1</td><td style=\"text-align:left\" title=\"1\">1</td><td style=\"text-align:left\" title=\"1\">1</td><td style=\"text-align:left\" title=\"2\">2</td><td style=\"text-align:left\" title=\"1\">1</td><td style=\"text-align:left\" title=\"101\">101</td><td style=\"text-align:left\" title=\"3\">3</td><td style=\"text-align:left\" title=\"4\">4</td><td style=\"text-align:left\" title=\"64\">64</td><td style=\"text-align:left\" title=\"5\">5</td><td style=\"text-align:left\" title=\"2018\">2018</td><td style=\"text-align:left\" title=\"5\">5</td><td style=\"text-align:left\" title=\"6\">6</td></tr><tr><td style=\"text-align:left\" title=\"2\">2</td><td style=\"text-align:left\" title=\"2019\">2019</td><td style=\"text-align:left\" title=\"1\">1</td><td style=\"text-align:left\" title=\"21\">21</td><td style=\"text-align:left\" title=\"4\">4</td><td style=\"text-align:left\" title=\"3\">3</td><td style=\"text-align:left\" title=\"1\">1</td><td style=\"text-align:left\" title=\"2\">2</td><td style=\"text-align:left\" title=\"1\">1</td><td style=\"text-align:left\" title=\"101\">101</td><td style=\"text-align:left\" title=\"1\">1</td><td style=\"text-align:left\" title=\"2\">2</td><td style=\"text-align:left\" title=\"90\">90</td><td style=\"text-align:left\" title=\"14\">14</td><td style=\"text-align:left\" title=\"9999\">9999</td><td style=\"text-align:left\" title=\"99\">99</td><td style=\"text-align:left\" title=\"1\">1</td></tr><tr><td style=\"text-align:left\" title=\"3\">3</td><td style=\"text-align:left\" title=\"2019\">2019</td><td style=\"text-align:left\" title=\"1\">1</td><td style=\"text-align:left\" title=\"7\">7</td><td style=\"text-align:left\" title=\"2\">2</td><td style=\"text-align:left\" title=\"1\">1</td><td style=\"text-align:left\" title=\"1\">1</td><td style=\"text-align:left\" title=\"2\">2</td><td style=\"text-align:left\" title=\"1\">1</td><td style=\"text-align:left\" title=\"101\">101</td><td style=\"text-align:left\" title=\"18\">18</td><td style=\"text-align:left\" title=\"1\">1</td><td style=\"text-align:left\" title=\"41\">41</td><td style=\"text-align:left\" title=\"8\">8</td><td style=\"text-align:left\" title=\"2019\">2019</td><td style=\"text-align:left\" title=\"5\">5</td><td style=\"text-align:left\" title=\"1\">1</td></tr><tr><td style=\"text-align:left\" title=\"4\">4</td><td style=\"text-align:left\" title=\"2019\">2019</td><td style=\"text-align:left\" title=\"1\">1</td><td style=\"text-align:left\" title=\"11\">11</td><td style=\"text-align:left\" title=\"2\">2</td><td style=\"text-align:left\" title=\"1\">1</td><td style=\"text-align:left\" title=\"1\">1</td><td style=\"text-align:left\" title=\"2\">2</td><td style=\"text-align:left\" title=\"1\">1</td><td style=\"text-align:left\" title=\"102\">102</td><td style=\"text-align:left\" title=\"99\">99</td><td style=\"text-align:left\" title=\"1\">1</td><td style=\"text-align:left\" title=\"69\">69</td><td style=\"text-align:left\" title=\"5\">5</td><td style=\"text-align:left\" title=\"2007\">2007</td><td style=\"text-align:left\" title=\"4\">4</td><td style=\"text-align:left\" title=\"1\">1</td></tr><tr><td style=\"text-align:left\" title=\"5\">5</td><td style=\"text-align:left\" title=\"2019\">2019</td><td style=\"text-align:left\" title=\"1\">1</td><td style=\"text-align:left\" title=\"8\">8</td><td style=\"text-align:left\" title=\"2\">2</td><td style=\"text-align:left\" title=\"1\">1</td><td style=\"text-align:left\" title=\"1\">1</td><td style=\"text-align:left\" title=\"2\">2</td><td style=\"text-align:left\" title=\"1\">1</td><td style=\"text-align:left\" title=\"101\">101</td><td style=\"text-align:left\" title=\"7\">7</td><td style=\"text-align:left\" title=\"4\">4</td><td style=\"text-align:left\" title=\"27\">27</td><td style=\"text-align:left\" title=\"1\">1</td><td style=\"text-align:left\" title=\"9999\">9999</td><td style=\"text-align:left\" title=\"99\">99</td><td style=\"text-align:left\" title=\"6\">6</td></tr><tr><td style=\"text-align:left\" title=\"6\">6</td><td style=\"text-align:left\" title=\"2019\">2019</td><td style=\"text-align:left\" title=\"1\">1</td><td style=\"text-align:left\" title=\"0\">0</td><td style=\"text-align:left\" title=\"1\">1</td><td style=\"text-align:left\" title=\"1\">1</td><td style=\"text-align:left\" title=\"1\">1</td><td style=\"text-align:left\" title=\"2\">2</td><td style=\"text-align:left\" title=\"1\">1</td><td style=\"text-align:left\" title=\"101\">101</td><td style=\"text-align:left\" title=\"7\">7</td><td style=\"text-align:left\" title=\"1\">1</td><td style=\"text-align:left\" title=\"999\">999</td><td style=\"text-align:left\" title=\"99\">99</td><td style=\"text-align:left\" title=\"9999\">9999</td><td style=\"text-align:left\" title=\"99\">99</td><td style=\"text-align:left\" title=\"1\">1</td></tr><tr><td style=\"text-align:left\" title=\"7\">7</td><td style=\"text-align:left\" title=\"2019\">2019</td><td style=\"text-align:left\" title=\"1\">1</td><td style=\"text-align:left\" title=\"4\">4</td><td style=\"text-align:left\" title=\"1\">1</td><td style=\"text-align:left\" title=\"1\">1</td><td style=\"text-align:left\" title=\"1\">1</td><td style=\"text-align:left\" title=\"2\">2</td><td style=\"text-align:left\" title=\"1\">1</td><td style=\"text-align:left\" title=\"115\">115</td><td style=\"text-align:left\" title=\"99\">99</td><td style=\"text-align:left\" title=\"4\">4</td><td style=\"text-align:left\" title=\"999\">999</td><td style=\"text-align:left\" title=\"1\">1</td><td style=\"text-align:left\" title=\"9999\">9999</td><td style=\"text-align:left\" title=\"99\">99</td><td style=\"text-align:left\" title=\"6\">6</td></tr><tr><td style=\"text-align:left\" title=\"8\">8</td><td style=\"text-align:left\" title=\"2019\">2019</td><td style=\"text-align:left\" title=\"1\">1</td><td style=\"text-align:left\" title=\"4\">4</td><td style=\"text-align:left\" title=\"1\">1</td><td style=\"text-align:left\" title=\"1\">1</td><td style=\"text-align:left\" title=\"1\">1</td><td style=\"text-align:left\" title=\"2\">2</td><td style=\"text-align:left\" title=\"1\">1</td><td style=\"text-align:left\" title=\"114\">114</td><td style=\"text-align:left\" title=\"99\">99</td><td style=\"text-align:left\" title=\"1\">1</td><td style=\"text-align:left\" title=\"999\">999</td><td style=\"text-align:left\" title=\"99\">99</td><td style=\"text-align:left\" title=\"9999\">9999</td><td style=\"text-align:left\" title=\"99\">99</td><td style=\"text-align:left\" title=\"1\">1</td></tr><tr><td style=\"text-align:left\" title=\"9\">9</td><td style=\"text-align:left\" title=\"2019\">2019</td><td style=\"text-align:left\" title=\"1\">1</td><td style=\"text-align:left\" title=\"11\">11</td><td style=\"text-align:left\" title=\"2\">2</td><td style=\"text-align:left\" title=\"1\">1</td><td style=\"text-align:left\" title=\"1\">1</td><td style=\"text-align:left\" title=\"2\">2</td><td style=\"text-align:left\" title=\"1\">1</td><td style=\"text-align:left\" title=\"108\">108</td><td style=\"text-align:left\" title=\"99\">99</td><td style=\"text-align:left\" title=\"1\">1</td><td style=\"text-align:left\" title=\"69\">69</td><td style=\"text-align:left\" title=\"99\">99</td><td style=\"text-align:left\" title=\"9999\">9999</td><td style=\"text-align:left\" title=\"99\">99</td><td style=\"text-align:left\" title=\"1\">1</td></tr><tr><td style=\"text-align:left\" title=\"10\">10</td><td style=\"text-align:left\" title=\"2019\">2019</td><td style=\"text-align:left\" title=\"1\">1</td><td style=\"text-align:left\" title=\"12\">12</td><td style=\"text-align:left\" title=\"3\">3</td><td style=\"text-align:left\" title=\"2\">2</td><td style=\"text-align:left\" title=\"1\">1</td><td style=\"text-align:left\" title=\"2\">2</td><td style=\"text-align:left\" title=\"1\">1</td><td style=\"text-align:left\" title=\"110\">110</td><td style=\"text-align:left\" title=\"99\">99</td><td style=\"text-align:left\" title=\"1\">1</td><td style=\"text-align:left\" title=\"56\">56</td><td style=\"text-align:left\" title=\"99\">99</td><td style=\"text-align:left\" title=\"9999\">9999</td><td style=\"text-align:left\" title=\"99\">99</td><td style=\"text-align:left\" title=\"1\">1</td></tr></table></body></html>"
      ]
     },
     "execution_count": 9,
     "metadata": {},
     "output_type": "execute_result"
    }
   ],
   "source": [
    "events.head(10)"
   ]
  },
  {
   "cell_type": "markdown",
   "metadata": {},
   "source": [
    "#### Verifiquemos que los datos tengan sentido"
   ]
  },
  {
   "cell_type": "code",
   "execution_count": 38,
   "metadata": {},
   "outputs": [
    {
     "data": {
      "text/plain": [
       "[1, 2, 3, 4, 5, 6, 7, 8, 9, 10, 11, 12, 13, 14, 15, 16, 17, 18, 19, 20, 21, 22, 23, 24, 25, 26, 27, 28, 29, 30, 31]"
      ]
     },
     "execution_count": 38,
     "metadata": {},
     "output_type": "execute_result"
    }
   ],
   "source": [
    "events[\"día_ocu\"].values().distinct() // No hay fecha con mes con mas de 31 dias o con datos invalidos"
   ]
  },
  {
   "cell_type": "code",
   "execution_count": 39,
   "metadata": {},
   "outputs": [
    {
     "data": {
      "text/plain": [
       "[1, 2, 3, 4, 5, 6, 7, 8, 9, 10, 11, 12]"
      ]
     },
     "execution_count": 39,
     "metadata": {},
     "output_type": "execute_result"
    }
   ],
   "source": [
    "events[\"mes_ocu\"].values().distinct() // No hay mes mayor al 12 (enero 1 ... diciembre 12)"
   ]
  },
  {
   "cell_type": "code",
   "execution_count": 44,
   "metadata": {},
   "outputs": [
    {
     "data": {
      "text/plain": [
       "[0, 1, 2, 3, 4, 5, 6, 7, 8, 9, 10, 11, 12, 13, 14, 15, 16, 17, 18, 19, 20, 21, 22, 23]"
      ]
     },
     "execution_count": 44,
     "metadata": {},
     "output_type": "execute_result"
    }
   ],
   "source": [
    "events[\"hora_ocu\"].values().distinct().sortedBy { it as? Int } // Hora entre 0 y 23 hrs"
   ]
  },
  {
   "cell_type": "code",
   "execution_count": 45,
   "metadata": {},
   "outputs": [
    {
     "data": {
      "text/plain": [
       "[1, 3, 2]"
      ]
     },
     "execution_count": 45,
     "metadata": {},
     "output_type": "execute_result"
    }
   ],
   "source": [
    "events[\"g_hora_5\"].values().distinct() // Sola hay 3 grupos de hora"
   ]
  },
  {
   "cell_type": "code",
   "execution_count": 47,
   "metadata": {},
   "outputs": [
    {
     "data": {
      "text/plain": [
       "[1, 2, 3, 4, 5, 6, 7]"
      ]
     },
     "execution_count": 47,
     "metadata": {},
     "output_type": "execute_result"
    }
   ],
   "source": [
    "events[\"día_sem_ocu\"].values().distinct().sortedBy { it as? Int } // Soloa hay 7 dias a la semana (1 ...7 )"
   ]
  },
  {
   "cell_type": "code",
   "execution_count": 50,
   "metadata": {},
   "outputs": [
    {
     "data": {
      "text/plain": [
       "[1, 2, 3, 4, 5, 6, 7, 8, 9, 10, 11, 12, 13, 14, 15, 16, 17, 18, 19, 20, 21, 22]"
      ]
     },
     "execution_count": 50,
     "metadata": {},
     "output_type": "execute_result"
    }
   ],
   "source": [
    "events[\"depto_ocu\"].values().distinct().sortedBy { it as? Int } // Solo hay 22 departamentos (1 ... 22)"
   ]
  },
  {
   "cell_type": "code",
   "execution_count": 52,
   "metadata": {},
   "outputs": [
    {
     "data": {
      "text/plain": [
       "[1974, 1975, 1978, 1980, 1981, 1982, 1983, 1984, 1985, 1986, 1987, 1988, 1989, 1990, 1991, 1992, 1993, 1994, 1995, 1996, 1997, 1998, 1999, 2000, 2001, 2002, 2003, 2004, 2005, 2006, 2007, 2008, 2009, 2010, 2011, 2012, 2013, 2014, 2015, 2016, 2017, 2018, 2019, 2020, 9999]"
      ]
     },
     "execution_count": 52,
     "metadata": {},
     "output_type": "execute_result"
    }
   ],
   "source": [
    "events[\"modelo_veh\"].values().distinct().sortedBy { it as? Int } // Los modelos de vehiculos son validos"
   ]
  },
  {
   "cell_type": "markdown",
   "metadata": {},
   "source": [
    "#### Busquemos datos vacios"
   ]
  },
  {
   "cell_type": "code",
   "execution_count": 96,
   "metadata": {},
   "outputs": [
    {
     "data": {
      "text/plain": [
       "[]"
      ]
     },
     "execution_count": 96,
     "metadata": {},
     "output_type": "execute_result"
    }
   ],
   "source": [
    "// Columnas con valores NA\n",
    "events.cols\n",
    "    .filter { row -> row.isNA().any { it } }\n",
    "    .map { it.name }"
   ]
  },
  {
   "cell_type": "markdown",
   "metadata": {},
   "source": [
    "## Vamos a convertir los codigos en los valores correspondientes"
   ]
  },
  {
   "cell_type": "markdown",
   "metadata": {},
   "source": [
    "#### Primero definamos los valores por los que se reemplazaran los ids"
   ]
  },
  {
   "cell_type": "code",
   "execution_count": 157,
   "metadata": {},
   "outputs": [],
   "source": [
    "val hourGroupNames = dataFrameOf(\"g_hora_5\", \"Grupo de hora (Nombre)\")(\n",
    "    1, \"manana\",\n",
    "    2, \"tarde\",\n",
    "    3, \"noche\"\n",
    ")"
   ]
  },
  {
   "cell_type": "code",
   "execution_count": 158,
   "metadata": {},
   "outputs": [],
   "source": [
    "val hourGroups = dataFrameOf(\"g_hora\", \"Grupo de hora (Rango)\")(\n",
    "    1, \"00:00 a 05:59\",\n",
    "    2, \"06:00 a 11:59\",\n",
    "    3, \"12:00 a 17:59\",\n",
    "    4, \"18:00 a 23:59\"\n",
    ")"
   ]
  },
  {
   "cell_type": "code",
   "execution_count": 159,
   "metadata": {},
   "outputs": [],
   "source": [
    "val occurrenceMonth = dataFrameOf(\"mes_ocu\", \"Mes de ocurrencia\")(\n",
    "    1, \"Enero\",\n",
    "    2, \"Febrero\",\n",
    "    3, \"Marzo\",\n",
    "    4, \"Abril\",\n",
    "    5, \"Mayo\",\n",
    "    6, \"Junio\",\n",
    "    7, \"Julio\",\n",
    "    8, \"Agosto\",\n",
    "    9, \"Septiembre\",\n",
    "    10, \"Octubre\",\n",
    "    11, \"Noviembre\",\n",
    "    12, \"Diciembre\"\n",
    ")"
   ]
  },
  {
   "cell_type": "code",
   "execution_count": 160,
   "metadata": {},
   "outputs": [],
   "source": [
    "val occurrenceDayOfTheWeek = dataFrameOf(\"día_sem_ocu\", \"Día de la semana de ocurrencia\")(\n",
    "    1, \"Lunes\",\n",
    "    2, \"Martes\",\n",
    "    3, \"Miércoles\",\n",
    "    4, \"Jueves\",\n",
    "    5, \"Viernes\",\n",
    "    6, \"Sábado\",\n",
    "    7, \"Domingo\"\n",
    ")"
   ]
  },
  {
   "cell_type": "code",
   "execution_count": 155,
   "metadata": {},
   "outputs": [],
   "source": [
    "val occurrenceDepartment = DataFrame.readCSV(\"depto_ocu.csv\")"
   ]
  },
  {
   "cell_type": "code",
   "execution_count": null,
   "metadata": {},
   "outputs": [],
   "source": [
    "val occurrenceDepartment = DataFrame.readCSV(\"depto_ocu.csv\")"
   ]
  },
  {
   "cell_type": "code",
   "execution_count": 161,
   "metadata": {},
   "outputs": [
    {
     "data": {
      "text/html": [
       "<html><body><table><tr><th style=\"text-align:left\">núm_corre</th><th style=\"text-align:left\">año_ocu</th><th style=\"text-align:left\">día_ocu</th><th style=\"text-align:left\">hora_ocu</th><th style=\"text-align:left\">mupio_ocu</th><th style=\"text-align:left\">zona_ocu</th><th style=\"text-align:left\">tipo_veh</th><th style=\"text-align:left\">marca_veh</th><th style=\"text-align:left\">color_veh</th><th style=\"text-align:left\">modelo_veh</th><th style=\"text-align:left\">g_modelo_veh</th><th style=\"text-align:left\">tipo_eve</th><th style=\"text-align:left\">Grupo de hora (Rango)</th><th style=\"text-align:left\">Grupo de hora (Nombre)</th><th style=\"text-align:left\">Mes de ocurrencia</th><th style=\"text-align:left\">Día de la semana de ocurrencia</th><th style=\"text-align:left\">Occurrence department</th></tr><tr><td style=\"text-align:left\" title=\"199\">199</td><td style=\"text-align:left\" title=\"2019\">2019</td><td style=\"text-align:left\" title=\"14\">14</td><td style=\"text-align:left\" title=\"3\">3</td><td style=\"text-align:left\" title=\"101\">101</td><td style=\"text-align:left\" title=\"13\">13</td><td style=\"text-align:left\" title=\"4\">4</td><td style=\"text-align:left\" title=\"27\">27</td><td style=\"text-align:left\" title=\"1\">1</td><td style=\"text-align:left\" title=\"9999\">9999</td><td style=\"text-align:left\" title=\"99\">99</td><td style=\"text-align:left\" title=\"6\">6</td><td style=\"text-align:left\" title=\"00:00 a 05:59\">00:00 a 05:59</td><td style=\"text-align:left\" title=\"manana\">manana</td><td style=\"text-align:left\" title=\"Enero\">Enero</td><td style=\"text-align:left\" title=\"Lunes\">Lunes</td><td style=\"text-align:left\" title=\"Guatemala\">Guatemala</td></tr><tr><td style=\"text-align:left\" title=\"531\">531</td><td style=\"text-align:left\" title=\"2019\">2019</td><td style=\"text-align:left\" title=\"21\">21</td><td style=\"text-align:left\" title=\"5\">5</td><td style=\"text-align:left\" title=\"101\">101</td><td style=\"text-align:left\" title=\"9\">9</td><td style=\"text-align:left\" title=\"1\">1</td><td style=\"text-align:left\" title=\"999\">999</td><td style=\"text-align:left\" title=\"99\">99</td><td style=\"text-align:left\" title=\"9999\">9999</td><td style=\"text-align:left\" title=\"99\">99</td><td style=\"text-align:left\" title=\"5\">5</td><td style=\"text-align:left\" title=\"00:00 a 05:59\">00:00 a 05:59</td><td style=\"text-align:left\" title=\"manana\">manana</td><td style=\"text-align:left\" title=\"Enero\">Enero</td><td style=\"text-align:left\" title=\"Lunes\">Lunes</td><td style=\"text-align:left\" title=\"Guatemala\">Guatemala</td></tr><tr><td style=\"text-align:left\" title=\"198\">198</td><td style=\"text-align:left\" title=\"2019\">2019</td><td style=\"text-align:left\" title=\"14\">14</td><td style=\"text-align:left\" title=\"8\">8</td><td style=\"text-align:left\" title=\"105\">105</td><td style=\"text-align:left\" title=\"99\">99</td><td style=\"text-align:left\" title=\"4\">4</td><td style=\"text-align:left\" title=\"3\">3</td><td style=\"text-align:left\" title=\"5\">5</td><td style=\"text-align:left\" title=\"2018\">2018</td><td style=\"text-align:left\" title=\"5\">5</td><td style=\"text-align:left\" title=\"1\">1</td><td style=\"text-align:left\" title=\"06:00 a 11:59\">06:00 a 11:59</td><td style=\"text-align:left\" title=\"manana\">manana</td><td style=\"text-align:left\" title=\"Enero\">Enero</td><td style=\"text-align:left\" title=\"Lunes\">Lunes</td><td style=\"text-align:left\" title=\"Guatemala\">Guatemala</td></tr><tr><td style=\"text-align:left\" title=\"528\">528</td><td style=\"text-align:left\" title=\"2019\">2019</td><td style=\"text-align:left\" title=\"21\">21</td><td style=\"text-align:left\" title=\"10\">10</td><td style=\"text-align:left\" title=\"101\">101</td><td style=\"text-align:left\" title=\"13\">13</td><td style=\"text-align:left\" title=\"4\">4</td><td style=\"text-align:left\" title=\"3\">3</td><td style=\"text-align:left\" title=\"1\">1</td><td style=\"text-align:left\" title=\"2017\">2017</td><td style=\"text-align:left\" title=\"5\">5</td><td style=\"text-align:left\" title=\"5\">5</td><td style=\"text-align:left\" title=\"06:00 a 11:59\">06:00 a 11:59</td><td style=\"text-align:left\" title=\"manana\">manana</td><td style=\"text-align:left\" title=\"Enero\">Enero</td><td style=\"text-align:left\" title=\"Lunes\">Lunes</td><td style=\"text-align:left\" title=\"Guatemala\">Guatemala</td></tr><tr><td style=\"text-align:left\" title=\"529\">529</td><td style=\"text-align:left\" title=\"2019\">2019</td><td style=\"text-align:left\" title=\"21\">21</td><td style=\"text-align:left\" title=\"7\">7</td><td style=\"text-align:left\" title=\"115\">115</td><td style=\"text-align:left\" title=\"99\">99</td><td style=\"text-align:left\" title=\"1\">1</td><td style=\"text-align:left\" title=\"28\">28</td><td style=\"text-align:left\" title=\"2\">2</td><td style=\"text-align:left\" title=\"9999\">9999</td><td style=\"text-align:left\" title=\"99\">99</td><td style=\"text-align:left\" title=\"5\">5</td><td style=\"text-align:left\" title=\"06:00 a 11:59\">06:00 a 11:59</td><td style=\"text-align:left\" title=\"manana\">manana</td><td style=\"text-align:left\" title=\"Enero\">Enero</td><td style=\"text-align:left\" title=\"Lunes\">Lunes</td><td style=\"text-align:left\" title=\"Guatemala\">Guatemala</td></tr></table></body></html>"
      ]
     },
     "execution_count": 161,
     "metadata": {},
     "output_type": "execute_result"
    }
   ],
   "source": [
    "events\n",
    "    .innerJoin(hourGroups, by = listOf(\"g_hora\"))\n",
    "    .innerJoin(hourGroupNames, by = listOf(\"g_hora_5\"))\n",
    "    .innerJoin(occurrenceMonth, by = listOf(\"mes_ocu\"))\n",
    "    .innerJoin(occurrenceDayOfTheWeek, by = listOf(\"día_sem_ocu\"))\n",
    "    .innerJoin(occurrenceDepartment, by = listOf(\"depto_ocu\"))\n",
    "    .remove(\"g_hora_5\", \"g_hora\", \"mes_ocu\", \"día_sem_ocu\", \"depto_ocu\")\n",
    "    .head(5)"
   ]
  },
  {
   "cell_type": "code",
   "execution_count": null,
   "metadata": {},
   "outputs": [],
   "source": []
  }
 ],
 "metadata": {
  "kernelspec": {
   "display_name": "Kotlin",
   "language": "kotlin",
   "name": "kotlin"
  },
  "language_info": {
   "codemirror_mode": "text/x-kotlin",
   "file_extension": ".kt",
   "mimetype": "text/x-kotlin",
   "name": "kotlin",
   "pygments_lexer": "kotlin",
   "version": "1.4.20-dev-1121"
  }
 },
 "nbformat": 4,
 "nbformat_minor": 4
}
