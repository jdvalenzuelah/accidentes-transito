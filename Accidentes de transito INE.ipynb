{
 "cells": [
  {
   "cell_type": "markdown",
   "metadata": {},
   "source": [
    "# Accidentes de transito INE\n",
    "\n",
    "[![Binder](https://mybinder.org/badge_logo.svg)](https://mybinder.org/v2/gh/val171001/accidentes-transito/master?filepath=Accidentes%2520de%2520transito%2520INE.ipynb)\n",
    "\n",
    "## Objetivos\n",
    "\n",
    "- Mejorar el dataset para prevenir accidentes de tránsito\n",
    "\n",
    "### Para lograr el objetivo necesitamos:\n",
    "\n",
    "- Descubrir cuáles son las causas de los accidentes de tránsito\n",
    "- Identificar qué información es necesaria para identificar las causas\n",
    "- Descubrir cómo se previenen los accidentes de tránsito\n",
    "\n",
    "# Causas de los accidentes de tránsito\n",
    "\n",
    "Según aseguradora mapfre las principales causas de accidentes de tránsito son:\n",
    " 1. Fallas mecánicas\n",
    " 2. Conductores ebrios\n",
    " 3. Sueño\n",
    " 4. Uso de teléfono\n",
    " 5. Exceso de velocidad\n",
    " 6. Pasar el semáforo en rojo / Alto\n",
    " 7. Distracciones\n",
    " \n",
    "Además la organización mundial de la salud agrega como un factor para los accidentes de tránsito las infraestructura vial.\n",
    "\n",
    "\n",
    "https://www.who.int/es/news-room/fact-sheets/detail/road-traffic-injuries\n",
    "https://www.mapfre.com.pe/viviendo-en-confianza/seguridad-vial/7-principales-causas-accidentes-auto/\n",
    "\n",
    "\n",
    "# Datos de investigación\n",
    "\n",
    "Datos proveeidos por INE https://www.ine.gob.gt/estadisticasine/index.php/usuario/hechos_transito_menu del año 2009 a 2019\n",
    "\n",
    "### ¿Qué datos se incluyen en los datos del INE?\n",
    "\n",
    "- Número de correlativo\n",
    "- Año de ocurrencia\n",
    "- Día de ocurrencia\n",
    "- Hora de ocurrencia\n",
    "- Grupo de hora\n",
    "- Grupo de hora mañana, tarde y noche\n",
    "- Mes de ocurrencia\n",
    "- Día de la semana de ocurrencia\n",
    "- Departamento de ocurrencia\n",
    "- Municipio de ocurrencia\n",
    "- Zona de ocurrencia\n",
    "- Tipo de vehículo\n",
    "- Marca del vehículo\n",
    "- Color del vehículo\n",
    "- Modelo del vehículo\n",
    "- Grupo modelo del vehículo\n",
    "- Tipo de evento\n",
    "\n",
    "### ¿Qué datos son solicitados por las aseguradoras?\n",
    "\n",
    "- Datos del vehículo asegurado:\n",
    "    - Marca del vehículo\n",
    "    - Tipo del vehículo\n",
    "    - Modelo del vehículo\n",
    "    - Color del vehículo\n",
    "- Datos del accidente\n",
    "    - Edad del conductor\n",
    "    - Fecha\n",
    "    - Hora\n",
    "    - Lado de la calle (izquierdo/derecho)\n",
    "    - Velocidad\n",
    "    - Dirección en la que se traslada (vehículos involucrados en el accidente)\n",
    "    - Causa del accidente\n",
    "    - Vehículo que circulaba con preferencia de vía\n"
   ]
  },
  {
   "cell_type": "markdown",
   "metadata": {},
   "source": [
    "## Limpieza de datos"
   ]
  },
  {
   "cell_type": "code",
   "execution_count": 1,
   "metadata": {},
   "outputs": [],
   "source": [
    "%use krangl"
   ]
  },
  {
   "cell_type": "code",
   "execution_count": 2,
   "metadata": {},
   "outputs": [],
   "source": [
    "val eventsToClean = DataFrame.readCSV(\"hechos-transito-2019.csv\")"
   ]
  },
  {
   "cell_type": "code",
   "execution_count": 4,
   "metadata": {},
   "outputs": [
    {
     "data": {
      "text/html": [
       "<html><body><table><tr><th style=\"text-align:left\">núm_corre</th><th style=\"text-align:left\">año_ocu</th><th style=\"text-align:left\">día_ocu</th><th style=\"text-align:left\">hora_ocu</th><th style=\"text-align:left\">g_hora</th><th style=\"text-align:left\">g_hora_5</th><th style=\"text-align:left\">mes_ocu</th><th style=\"text-align:left\">día_sem_ocu</th><th style=\"text-align:left\">depto_ocu</th><th style=\"text-align:left\">mupio_ocu</th><th style=\"text-align:left\">zona_ocu</th><th style=\"text-align:left\">tipo_veh</th><th style=\"text-align:left\">marca_veh</th><th style=\"text-align:left\">color_veh</th><th style=\"text-align:left\">modelo_veh</th><th style=\"text-align:left\">g_modelo_veh</th><th style=\"text-align:left\">tipo_eve</th></tr><tr><td style=\"text-align:left\" title=\"1\">1</td><td style=\"text-align:left\" title=\"2019\">2019</td><td style=\"text-align:left\" title=\"1\">1</td><td style=\"text-align:left\" title=\"5\">5</td><td style=\"text-align:left\" title=\"1\">1</td><td style=\"text-align:left\" title=\"1\">1</td><td style=\"text-align:left\" title=\"1\">1</td><td style=\"text-align:left\" title=\"2\">2</td><td style=\"text-align:left\" title=\"1\">1</td><td style=\"text-align:left\" title=\"101\">101</td><td style=\"text-align:left\" title=\"3\">3</td><td style=\"text-align:left\" title=\"4\">4</td><td style=\"text-align:left\" title=\"64\">64</td><td style=\"text-align:left\" title=\"5\">5</td><td style=\"text-align:left\" title=\"2018\">2018</td><td style=\"text-align:left\" title=\"5\">5</td><td style=\"text-align:left\" title=\"6\">6</td></tr><tr><td style=\"text-align:left\" title=\"2\">2</td><td style=\"text-align:left\" title=\"2019\">2019</td><td style=\"text-align:left\" title=\"1\">1</td><td style=\"text-align:left\" title=\"21\">21</td><td style=\"text-align:left\" title=\"4\">4</td><td style=\"text-align:left\" title=\"3\">3</td><td style=\"text-align:left\" title=\"1\">1</td><td style=\"text-align:left\" title=\"2\">2</td><td style=\"text-align:left\" title=\"1\">1</td><td style=\"text-align:left\" title=\"101\">101</td><td style=\"text-align:left\" title=\"1\">1</td><td style=\"text-align:left\" title=\"2\">2</td><td style=\"text-align:left\" title=\"90\">90</td><td style=\"text-align:left\" title=\"14\">14</td><td style=\"text-align:left\" title=\"9999\">9999</td><td style=\"text-align:left\" title=\"99\">99</td><td style=\"text-align:left\" title=\"1\">1</td></tr><tr><td style=\"text-align:left\" title=\"3\">3</td><td style=\"text-align:left\" title=\"2019\">2019</td><td style=\"text-align:left\" title=\"1\">1</td><td style=\"text-align:left\" title=\"7\">7</td><td style=\"text-align:left\" title=\"2\">2</td><td style=\"text-align:left\" title=\"1\">1</td><td style=\"text-align:left\" title=\"1\">1</td><td style=\"text-align:left\" title=\"2\">2</td><td style=\"text-align:left\" title=\"1\">1</td><td style=\"text-align:left\" title=\"101\">101</td><td style=\"text-align:left\" title=\"18\">18</td><td style=\"text-align:left\" title=\"1\">1</td><td style=\"text-align:left\" title=\"41\">41</td><td style=\"text-align:left\" title=\"8\">8</td><td style=\"text-align:left\" title=\"2019\">2019</td><td style=\"text-align:left\" title=\"5\">5</td><td style=\"text-align:left\" title=\"1\">1</td></tr><tr><td style=\"text-align:left\" title=\"4\">4</td><td style=\"text-align:left\" title=\"2019\">2019</td><td style=\"text-align:left\" title=\"1\">1</td><td style=\"text-align:left\" title=\"11\">11</td><td style=\"text-align:left\" title=\"2\">2</td><td style=\"text-align:left\" title=\"1\">1</td><td style=\"text-align:left\" title=\"1\">1</td><td style=\"text-align:left\" title=\"2\">2</td><td style=\"text-align:left\" title=\"1\">1</td><td style=\"text-align:left\" title=\"102\">102</td><td style=\"text-align:left\" title=\"99\">99</td><td style=\"text-align:left\" title=\"1\">1</td><td style=\"text-align:left\" title=\"69\">69</td><td style=\"text-align:left\" title=\"5\">5</td><td style=\"text-align:left\" title=\"2007\">2007</td><td style=\"text-align:left\" title=\"4\">4</td><td style=\"text-align:left\" title=\"1\">1</td></tr><tr><td style=\"text-align:left\" title=\"5\">5</td><td style=\"text-align:left\" title=\"2019\">2019</td><td style=\"text-align:left\" title=\"1\">1</td><td style=\"text-align:left\" title=\"8\">8</td><td style=\"text-align:left\" title=\"2\">2</td><td style=\"text-align:left\" title=\"1\">1</td><td style=\"text-align:left\" title=\"1\">1</td><td style=\"text-align:left\" title=\"2\">2</td><td style=\"text-align:left\" title=\"1\">1</td><td style=\"text-align:left\" title=\"101\">101</td><td style=\"text-align:left\" title=\"7\">7</td><td style=\"text-align:left\" title=\"4\">4</td><td style=\"text-align:left\" title=\"27\">27</td><td style=\"text-align:left\" title=\"1\">1</td><td style=\"text-align:left\" title=\"9999\">9999</td><td style=\"text-align:left\" title=\"99\">99</td><td style=\"text-align:left\" title=\"6\">6</td></tr><tr><td style=\"text-align:left\" title=\"6\">6</td><td style=\"text-align:left\" title=\"2019\">2019</td><td style=\"text-align:left\" title=\"1\">1</td><td style=\"text-align:left\" title=\"0\">0</td><td style=\"text-align:left\" title=\"1\">1</td><td style=\"text-align:left\" title=\"1\">1</td><td style=\"text-align:left\" title=\"1\">1</td><td style=\"text-align:left\" title=\"2\">2</td><td style=\"text-align:left\" title=\"1\">1</td><td style=\"text-align:left\" title=\"101\">101</td><td style=\"text-align:left\" title=\"7\">7</td><td style=\"text-align:left\" title=\"1\">1</td><td style=\"text-align:left\" title=\"999\">999</td><td style=\"text-align:left\" title=\"99\">99</td><td style=\"text-align:left\" title=\"9999\">9999</td><td style=\"text-align:left\" title=\"99\">99</td><td style=\"text-align:left\" title=\"1\">1</td></tr><tr><td style=\"text-align:left\" title=\"7\">7</td><td style=\"text-align:left\" title=\"2019\">2019</td><td style=\"text-align:left\" title=\"1\">1</td><td style=\"text-align:left\" title=\"4\">4</td><td style=\"text-align:left\" title=\"1\">1</td><td style=\"text-align:left\" title=\"1\">1</td><td style=\"text-align:left\" title=\"1\">1</td><td style=\"text-align:left\" title=\"2\">2</td><td style=\"text-align:left\" title=\"1\">1</td><td style=\"text-align:left\" title=\"115\">115</td><td style=\"text-align:left\" title=\"99\">99</td><td style=\"text-align:left\" title=\"4\">4</td><td style=\"text-align:left\" title=\"999\">999</td><td style=\"text-align:left\" title=\"1\">1</td><td style=\"text-align:left\" title=\"9999\">9999</td><td style=\"text-align:left\" title=\"99\">99</td><td style=\"text-align:left\" title=\"6\">6</td></tr><tr><td style=\"text-align:left\" title=\"8\">8</td><td style=\"text-align:left\" title=\"2019\">2019</td><td style=\"text-align:left\" title=\"1\">1</td><td style=\"text-align:left\" title=\"4\">4</td><td style=\"text-align:left\" title=\"1\">1</td><td style=\"text-align:left\" title=\"1\">1</td><td style=\"text-align:left\" title=\"1\">1</td><td style=\"text-align:left\" title=\"2\">2</td><td style=\"text-align:left\" title=\"1\">1</td><td style=\"text-align:left\" title=\"114\">114</td><td style=\"text-align:left\" title=\"99\">99</td><td style=\"text-align:left\" title=\"1\">1</td><td style=\"text-align:left\" title=\"999\">999</td><td style=\"text-align:left\" title=\"99\">99</td><td style=\"text-align:left\" title=\"9999\">9999</td><td style=\"text-align:left\" title=\"99\">99</td><td style=\"text-align:left\" title=\"1\">1</td></tr><tr><td style=\"text-align:left\" title=\"9\">9</td><td style=\"text-align:left\" title=\"2019\">2019</td><td style=\"text-align:left\" title=\"1\">1</td><td style=\"text-align:left\" title=\"11\">11</td><td style=\"text-align:left\" title=\"2\">2</td><td style=\"text-align:left\" title=\"1\">1</td><td style=\"text-align:left\" title=\"1\">1</td><td style=\"text-align:left\" title=\"2\">2</td><td style=\"text-align:left\" title=\"1\">1</td><td style=\"text-align:left\" title=\"108\">108</td><td style=\"text-align:left\" title=\"99\">99</td><td style=\"text-align:left\" title=\"1\">1</td><td style=\"text-align:left\" title=\"69\">69</td><td style=\"text-align:left\" title=\"99\">99</td><td style=\"text-align:left\" title=\"9999\">9999</td><td style=\"text-align:left\" title=\"99\">99</td><td style=\"text-align:left\" title=\"1\">1</td></tr><tr><td style=\"text-align:left\" title=\"10\">10</td><td style=\"text-align:left\" title=\"2019\">2019</td><td style=\"text-align:left\" title=\"1\">1</td><td style=\"text-align:left\" title=\"12\">12</td><td style=\"text-align:left\" title=\"3\">3</td><td style=\"text-align:left\" title=\"2\">2</td><td style=\"text-align:left\" title=\"1\">1</td><td style=\"text-align:left\" title=\"2\">2</td><td style=\"text-align:left\" title=\"1\">1</td><td style=\"text-align:left\" title=\"110\">110</td><td style=\"text-align:left\" title=\"99\">99</td><td style=\"text-align:left\" title=\"1\">1</td><td style=\"text-align:left\" title=\"56\">56</td><td style=\"text-align:left\" title=\"99\">99</td><td style=\"text-align:left\" title=\"9999\">9999</td><td style=\"text-align:left\" title=\"99\">99</td><td style=\"text-align:left\" title=\"1\">1</td></tr></table></body></html>"
      ]
     },
     "execution_count": 4,
     "metadata": {},
     "output_type": "execute_result"
    }
   ],
   "source": [
    "eventsToClean.head(10)"
   ]
  },
  {
   "cell_type": "markdown",
   "metadata": {},
   "source": [
    "#### Verifiquemos que los datos tengan sentido"
   ]
  },
  {
   "cell_type": "code",
   "execution_count": 5,
   "metadata": {},
   "outputs": [
    {
     "data": {
      "text/plain": [
       "[1, 2, 3, 4, 5, 6, 7, 8, 9, 10, 11, 12, 13, 14, 15, 16, 17, 18, 19, 20, 21, 22, 23, 24, 25, 26, 27, 28, 29, 30, 31]"
      ]
     },
     "execution_count": 5,
     "metadata": {},
     "output_type": "execute_result"
    }
   ],
   "source": [
    "eventsToClean[\"día_ocu\"].values().distinct() // No hay fecha con mes con mas de 31 dias o con datos invalidos"
   ]
  },
  {
   "cell_type": "code",
   "execution_count": 6,
   "metadata": {},
   "outputs": [
    {
     "data": {
      "text/plain": [
       "[1, 2, 3, 4, 5, 6, 7, 8, 9, 10, 11, 12]"
      ]
     },
     "execution_count": 6,
     "metadata": {},
     "output_type": "execute_result"
    }
   ],
   "source": [
    "eventsToClean[\"mes_ocu\"].values().distinct() // No hay mes mayor al 12 (enero 1 ... diciembre 12)"
   ]
  },
  {
   "cell_type": "code",
   "execution_count": 7,
   "metadata": {},
   "outputs": [
    {
     "data": {
      "text/plain": [
       "[0, 1, 2, 3, 4, 5, 6, 7, 8, 9, 10, 11, 12, 13, 14, 15, 16, 17, 18, 19, 20, 21, 22, 23]"
      ]
     },
     "execution_count": 7,
     "metadata": {},
     "output_type": "execute_result"
    }
   ],
   "source": [
    "eventsToClean[\"hora_ocu\"].values().distinct().sortedBy { it as? Int } // Hora entre 0 y 23 hrs"
   ]
  },
  {
   "cell_type": "code",
   "execution_count": 8,
   "metadata": {},
   "outputs": [
    {
     "data": {
      "text/plain": [
       "[1, 3, 2]"
      ]
     },
     "execution_count": 8,
     "metadata": {},
     "output_type": "execute_result"
    }
   ],
   "source": [
    "eventsToClean[\"g_hora_5\"].values().distinct() // Sola hay 3 grupos de hora"
   ]
  },
  {
   "cell_type": "code",
   "execution_count": 9,
   "metadata": {},
   "outputs": [
    {
     "data": {
      "text/plain": [
       "[1, 2, 3, 4, 5, 6, 7]"
      ]
     },
     "execution_count": 9,
     "metadata": {},
     "output_type": "execute_result"
    }
   ],
   "source": [
    "eventsToClean[\"día_sem_ocu\"].values().distinct().sortedBy { it as? Int } // Soloa hay 7 dias a la semana (1 ...7 )"
   ]
  },
  {
   "cell_type": "code",
   "execution_count": 10,
   "metadata": {},
   "outputs": [
    {
     "data": {
      "text/plain": [
       "[1, 2, 3, 4, 5, 6, 7, 8, 9, 10, 11, 12, 13, 14, 15, 16, 17, 18, 19, 20, 21, 22]"
      ]
     },
     "execution_count": 10,
     "metadata": {},
     "output_type": "execute_result"
    }
   ],
   "source": [
    "eventsToClean[\"depto_ocu\"].values().distinct().sortedBy { it as? Int } // Solo hay 22 departamentos (1 ... 22)"
   ]
  },
  {
   "cell_type": "code",
   "execution_count": 52,
   "metadata": {},
   "outputs": [
    {
     "data": {
      "text/plain": [
       "[1974, 1975, 1978, 1980, 1981, 1982, 1983, 1984, 1985, 1986, 1987, 1988, 1989, 1990, 1991, 1992, 1993, 1994, 1995, 1996, 1997, 1998, 1999, 2000, 2001, 2002, 2003, 2004, 2005, 2006, 2007, 2008, 2009, 2010, 2011, 2012, 2013, 2014, 2015, 2016, 2017, 2018, 2019, 2020, 9999]"
      ]
     },
     "execution_count": 52,
     "metadata": {},
     "output_type": "execute_result"
    }
   ],
   "source": [
    "eventsToClean[\"modelo_veh\"].values().distinct().sortedBy { it as? Int } // Los modelos de vehiculos son validos"
   ]
  },
  {
   "cell_type": "code",
   "execution_count": 12,
   "metadata": {},
   "outputs": [
    {
     "data": {
      "text/plain": [
       "true"
      ]
     },
     "execution_count": 12,
     "metadata": {},
     "output_type": "execute_result"
    }
   ],
   "source": [
    "eventsToClean[\"núm_corre\"].values().distinct().size == eventsToClean[\"núm_corre\"].values().size"
   ]
  },
  {
   "cell_type": "markdown",
   "metadata": {},
   "source": [
    "#### Busquemos datos vacios"
   ]
  },
  {
   "cell_type": "code",
   "execution_count": 113,
   "metadata": {},
   "outputs": [
    {
     "data": {
      "text/plain": [
       "[núm_corre, año_ocu, día_ocu, hora_ocu, g_hora, g_hora_5, mes_ocu, día_sem_ocu, depto_ocu, mupio_ocu, zona_ocu, tipo_veh, marca_veh, color_veh, modelo_veh, g_modelo_veh, tipo_eve]"
      ]
     },
     "execution_count": 113,
     "metadata": {},
     "output_type": "execute_result"
    }
   ],
   "source": [
    "// Columnas con valores NA\n",
    "eventsToClean.cols\n",
    "    .filter { row -> row.isNA().any() }\n",
    "    .map { it.name }"
   ]
  },
  {
   "cell_type": "markdown",
   "metadata": {},
   "source": [
    "## Vamos a convertir los códigos en los valores correspondientes"
   ]
  },
  {
   "cell_type": "markdown",
   "metadata": {},
   "source": [
    "#### Primero definamos los valores por los que se reemplazaran los ids"
   ]
  },
  {
   "cell_type": "code",
   "execution_count": 14,
   "metadata": {},
   "outputs": [],
   "source": [
    "val occurrenceMonth = dataFrameOf(\"mes_ocu\", \"month\")(\n",
    "    1, \"Enero\",\n",
    "    2, \"Febrero\",\n",
    "    3, \"Marzo\",\n",
    "    4, \"Abril\",\n",
    "    5, \"Mayo\",\n",
    "    6, \"Junio\",\n",
    "    7, \"Julio\",\n",
    "    8, \"Agosto\",\n",
    "    9, \"Septiembre\",\n",
    "    10, \"Octubre\",\n",
    "    11, \"Noviembre\",\n",
    "    12, \"Diciembre\"\n",
    ")"
   ]
  },
  {
   "cell_type": "code",
   "execution_count": 15,
   "metadata": {},
   "outputs": [],
   "source": [
    "val occurrenceDayOfTheWeek = dataFrameOf(\"día_sem_ocu\", \"dayOfWeek\")(\n",
    "    1, \"Lunes\",\n",
    "    2, \"Martes\",\n",
    "    3, \"Miércoles\",\n",
    "    4, \"Jueves\",\n",
    "    5, \"Viernes\",\n",
    "    6, \"Sábado\",\n",
    "    7, \"Domingo\"\n",
    ")"
   ]
  },
  {
   "cell_type": "code",
   "execution_count": 16,
   "metadata": {},
   "outputs": [],
   "source": [
    "val eventType = dataFrameOf(\"tipo_eve\", \"event\")(\n",
    "    1, \"Colisión\",\n",
    "    2, \"Choque\",\n",
    "    3, \"Vuelco\",\n",
    "    4, \"Caída\",\n",
    "    5, \"Atropello\",\n",
    "    6, \"Derrape\",\n",
    "    7, \"Embarranco\",\n",
    "    8, \"Encuneto\",\n",
    "    99, \"Ignorado\"\n",
    ")"
   ]
  },
  {
   "cell_type": "code",
   "execution_count": 17,
   "metadata": {},
   "outputs": [],
   "source": [
    "val vehiculeColor = dataFrameOf(\"color_veh\", \"vehicule.color\")(\n",
    "    1, \"Rojo\",\n",
    "    2, \"Blanco\",\n",
    "    3, \"Azul\",\n",
    "    4, \"Gris\",\n",
    "    5, \"Negro\",\n",
    "    6, \"Verde\",\n",
    "    7, \"Amarillo\",\n",
    "    8, \"Celeste\",\n",
    "    9, \"Corinto\",\n",
    "    10, \"Café\",\n",
    "    11, \"Beige\",\n",
    "    12, \"Turquesa\",\n",
    "    13, \"Marfil\",\n",
    "    14, \"Anaranjado\",\n",
    "    15, \"Morado\",\n",
    "    16, \"Rosado\",\n",
    "    17, \"Varios colores\",\n",
    "    99, \"Ignorado\"\n",
    ")"
   ]
  },
  {
   "cell_type": "code",
   "execution_count": 18,
   "metadata": {},
   "outputs": [],
   "source": [
    "val vehiculeType = dataFrameOf(\"tipo_veh\", \"vehicule.type\")(\n",
    "    1, \"Automóvil\",\n",
    "    2, \"Camioneta sport o blazer\",\n",
    "    3, \"Pick up\",\n",
    "    4, \"Motocicleta\",\n",
    "    5, \"Camión\",\n",
    "    6, \"Cabezal\",\n",
    "    7, \"Bus extraurbano\",\n",
    "    8, \"Jeep\",\n",
    "    9, \"Microbús\",\n",
    "    10, \"Taxi\",\n",
    "    11, \"Panel\",\n",
    "    12, \"Bus urbano\",\n",
    "    13, \"Tractor\",\n",
    "    14, \"Moto taxi\",\n",
    "    15, \"Furgón\",\n",
    "    16, \"Grúa\",\n",
    "    17, \"Bus escolar\",\n",
    "    18, \"Bicicleta\",\n",
    "    19, \"Avioneta\",\n",
    "    20, \"Montacargas\",\n",
    "    21, \"Bus militar\",\n",
    "    22, \"Cuatrimoto\",\n",
    "    23, \"Furgoneta\",\n",
    "    99, \"Ignorado\"\n",
    ")"
   ]
  },
  {
   "cell_type": "code",
   "execution_count": 19,
   "metadata": {},
   "outputs": [],
   "source": [
    "val occurrenceDepartment = DataFrame.readCSV(\"depto_ocu.csv\")\n",
    "    .rename(\"Occurrence department\" to \"department\")"
   ]
  },
  {
   "cell_type": "code",
   "execution_count": 20,
   "metadata": {},
   "outputs": [],
   "source": [
    "val towns = DataFrame.readCSV(\"towns-id.csv\")"
   ]
  },
  {
   "cell_type": "code",
   "execution_count": 21,
   "metadata": {},
   "outputs": [
    {
     "data": {
      "text/html": [
       "<html><body><table><tr><th style=\"text-align:left\">correlative</th><th style=\"text-align:left\">year</th><th style=\"text-align:left\">day</th><th style=\"text-align:left\">time</th><th style=\"text-align:left\">zone</th><th style=\"text-align:left\">vehicule.model</th><th style=\"text-align:left\">month</th><th style=\"text-align:left\">dayOfWeek</th><th style=\"text-align:left\">event</th><th style=\"text-align:left\">vehicule.color</th><th style=\"text-align:left\">vehicule.type</th><th style=\"text-align:left\">department</th><th style=\"text-align:left\">town</th></tr><tr><td style=\"text-align:left\" title=\"1970\">1970</td><td style=\"text-align:left\" title=\"2019\">2019</td><td style=\"text-align:left\" title=\"8\">8</td><td style=\"text-align:left\" title=\"20\">20</td><td style=\"text-align:left\" title=\"6\">6</td><td style=\"text-align:left\" title=\"2012\">2012</td><td style=\"text-align:left\" title=\"Abril\">Abril</td><td style=\"text-align:left\" title=\"Lunes\">Lunes</td><td style=\"text-align:left\" title=\"Colisión\">Colisión</td><td style=\"text-align:left\" title=\"Rojo\">Rojo</td><td style=\"text-align:left\" title=\"Automóvil\">Automóvil</td><td style=\"text-align:left\" title=\"Guatemala\">Guatemala</td><td style=\"text-align:left\" title=\"Guatemala \">Guatemala </td></tr><tr><td style=\"text-align:left\" title=\"6032\">6032</td><td style=\"text-align:left\" title=\"2019\">2019</td><td style=\"text-align:left\" title=\"18\">18</td><td style=\"text-align:left\" title=\"14\">14</td><td style=\"text-align:left\" title=\"13\">13</td><td style=\"text-align:left\" title=\"2015\">2015</td><td style=\"text-align:left\" title=\"Noviembre\">Noviembre</td><td style=\"text-align:left\" title=\"Lunes\">Lunes</td><td style=\"text-align:left\" title=\"Colisión\">Colisión</td><td style=\"text-align:left\" title=\"Rojo\">Rojo</td><td style=\"text-align:left\" title=\"Automóvil\">Automóvil</td><td style=\"text-align:left\" title=\"Guatemala\">Guatemala</td><td style=\"text-align:left\" title=\"Guatemala \">Guatemala </td></tr><tr><td style=\"text-align:left\" title=\"6643\">6643</td><td style=\"text-align:left\" title=\"2019\">2019</td><td style=\"text-align:left\" title=\"16\">16</td><td style=\"text-align:left\" title=\"20\">20</td><td style=\"text-align:left\" title=\"9\">9</td><td style=\"text-align:left\" title=\"2012\">2012</td><td style=\"text-align:left\" title=\"Diciembre\">Diciembre</td><td style=\"text-align:left\" title=\"Lunes\">Lunes</td><td style=\"text-align:left\" title=\"Colisión\">Colisión</td><td style=\"text-align:left\" title=\"Rojo\">Rojo</td><td style=\"text-align:left\" title=\"Automóvil\">Automóvil</td><td style=\"text-align:left\" title=\"Guatemala\">Guatemala</td><td style=\"text-align:left\" title=\"Guatemala \">Guatemala </td></tr><tr><td style=\"text-align:left\" title=\"1497\">1497</td><td style=\"text-align:left\" title=\"2019\">2019</td><td style=\"text-align:left\" title=\"19\">19</td><td style=\"text-align:left\" title=\"8\">8</td><td style=\"text-align:left\" title=\"1\">1</td><td style=\"text-align:left\" title=\"9999\">9999</td><td style=\"text-align:left\" title=\"Marzo\">Marzo</td><td style=\"text-align:left\" title=\"Martes\">Martes</td><td style=\"text-align:left\" title=\"Colisión\">Colisión</td><td style=\"text-align:left\" title=\"Rojo\">Rojo</td><td style=\"text-align:left\" title=\"Automóvil\">Automóvil</td><td style=\"text-align:left\" title=\"Guatemala\">Guatemala</td><td style=\"text-align:left\" title=\"Guatemala \">Guatemala </td></tr><tr><td style=\"text-align:left\" title=\"1502\">1502</td><td style=\"text-align:left\" title=\"2019\">2019</td><td style=\"text-align:left\" title=\"19\">19</td><td style=\"text-align:left\" title=\"18\">18</td><td style=\"text-align:left\" title=\"7\">7</td><td style=\"text-align:left\" title=\"9999\">9999</td><td style=\"text-align:left\" title=\"Marzo\">Marzo</td><td style=\"text-align:left\" title=\"Martes\">Martes</td><td style=\"text-align:left\" title=\"Colisión\">Colisión</td><td style=\"text-align:left\" title=\"Rojo\">Rojo</td><td style=\"text-align:left\" title=\"Automóvil\">Automóvil</td><td style=\"text-align:left\" title=\"Guatemala\">Guatemala</td><td style=\"text-align:left\" title=\"Guatemala \">Guatemala </td></tr></table></body></html>"
      ]
     },
     "execution_count": 21,
     "metadata": {},
     "output_type": "execute_result"
    }
   ],
   "source": [
    "// Vamos a unir los valores y vamos a renombrar las columnas\n",
    "val events = eventsToClean\n",
    "    .innerJoin(occurrenceMonth, by = listOf(\"mes_ocu\"))\n",
    "    .innerJoin(occurrenceDayOfTheWeek, by = listOf(\"día_sem_ocu\"))\n",
    "    .innerJoin(eventType, by = listOf(\"tipo_eve\"))\n",
    "    .innerJoin(vehiculeColor, by = listOf(\"color_veh\"))\n",
    "    .innerJoin(vehiculeType, by = listOf(\"tipo_veh\"))\n",
    "    .innerJoin(occurrenceDepartment, by = listOf(\"depto_ocu\"))\n",
    "    .innerJoin(towns, by = listOf(\"mupio_ocu\"))\n",
    "    .remove(\"g_hora_5\", \"g_hora\", \"mes_ocu\", \"día_sem_ocu\", \"depto_ocu\", \"g_modelo_veh\", \n",
    "                \"tipo_eve\", \"color_veh\", \"marca_veh\", \"mupio_ocu\", \"tipo_veh\")\n",
    "    .rename(\n",
    "        \"año_ocu\" to \"year\",\n",
    "        \"día_ocu\" to \"day\",\n",
    "        \"hora_ocu\" to \"time\",\n",
    "        \"modelo_veh\" to \"vehicule.model\",\n",
    "        \"zona_ocu\" to \"zone\",\n",
    "        \"núm_corre\" to \"correlative\"\n",
    "    )\n",
    "    \n",
    "events.head(5)"
   ]
  },
  {
   "cell_type": "code",
   "execution_count": 22,
   "metadata": {},
   "outputs": [],
   "source": [
    "// Para aprovechar el autonaming del IDE vamos a definir variables con los nombres de las columnas\n",
    "val correlative = \"correlative\"\n",
    "val year = \"year\"\n",
    "val day = \"day\"\n",
    "val time = \"time\"\n",
    "val month = \"month\"\n",
    "val dayOfWeek = \"dayOfWeek\"\n",
    "val zone = \"zone\"\n",
    "val vehiculeModel = \"vehicule.model\"\n",
    "val vehiculeColor = \"vehicule.color\"\n",
    "val vehiculeType= \"vehicule.type\"\n",
    "val department = \"department\"\n",
    "val town = \"town\"\n",
    "val event = \"event\""
   ]
  },
  {
   "cell_type": "markdown",
   "metadata": {},
   "source": [
    "### Comencemos por ver qué mes del año tiene más accidentes"
   ]
  },
  {
   "cell_type": "code",
   "execution_count": 23,
   "metadata": {},
   "outputs": [
    {
     "data": {
      "text/html": [
       "   <div id=\"2tSNq6\"></div>\n",
       "   <script type=\"text/javascript\" data-lets-plot-script=\"library\">\n",
       "       if(!window.letsPlotCallQueue) {\n",
       "           window.letsPlotCallQueue = [];\n",
       "       }; \n",
       "       window.letsPlotCall = function(f) {\n",
       "           window.letsPlotCallQueue.push(f);\n",
       "       };\n",
       "       (function() {\n",
       "           var script = document.createElement(\"script\");\n",
       "           script.type = \"text/javascript\";\n",
       "           script.src = \"https://dl.bintray.com/jetbrains/lets-plot/lets-plot-1.4.2.min.js\";\n",
       "           script.onload = function() {\n",
       "               window.letsPlotCall = function(f) {f();};\n",
       "               window.letsPlotCallQueue.forEach(function(f) {f();});\n",
       "               window.letsPlotCallQueue = [];\n",
       "               \n",
       "               \n",
       "           };\n",
       "           script.onerror = function(event) {\n",
       "               window.letsPlotCall = function(f) {};\n",
       "               window.letsPlotCallQueue = [];\n",
       "               var div = document.createElement(\"div\");\n",
       "               div.style.color = 'darkred';\n",
       "               div.textContent = 'Error loading Lets-Plot JS';\n",
       "               document.getElementById(\"2tSNq6\").appendChild(div);\n",
       "           };\n",
       "           var e = document.getElementById(\"2tSNq6\");\n",
       "           e.appendChild(script);\n",
       "       })();\n",
       "   </script>"
      ]
     },
     "metadata": {},
     "output_type": "display_data"
    }
   ],
   "source": [
    "%use lets-plot"
   ]
  },
  {
   "cell_type": "code",
   "execution_count": 24,
   "metadata": {},
   "outputs": [],
   "source": [
    "val accidentsPerMonth = events\n",
    "    .groupBy(month)\n",
    "    .count()\n",
    "    .sortedByDescending(\"n\")"
   ]
  },
  {
   "cell_type": "code",
   "execution_count": 25,
   "metadata": {},
   "outputs": [
    {
     "data": {
      "text/html": [
       "   <div id=\"oo9C3r\"></div>\n",
       "   <script type=\"text/javascript\" data-lets-plot-script=\"plot\">\n",
       "       (function() {\n",
       "           var plotSpec={\n",
       "'mapping':{\n",
       "},\n",
       "'data':{\n",
       "'month':[\"Marzo\",\"Diciembre\",\"Febrero\",\"Abril\",\"Mayo\",\"Junio\",\"Enero\",\"Noviembre\",\"Septiembre\",\"Agosto\",\"Julio\",\"Octubre\"],\n",
       "'count':[658.0,634.0,614.0,600.0,590.0,590.0,589.0,587.0,581.0,578.0,528.0,498.0]\n",
       "},\n",
       "'kind':\"plot\",\n",
       "'scales':[],\n",
       "'layers':[{\n",
       "'stat':\"identity\",\n",
       "'mapping':{\n",
       "'x':\"month\",\n",
       "'y':\"count\"\n",
       "},\n",
       "'data':{\n",
       "},\n",
       "'position':\"stack\",\n",
       "'geom':\"bar\"\n",
       "}]\n",
       "};\n",
       "           var plotContainer = document.getElementById(\"oo9C3r\");\n",
       "           window.letsPlotCall(function() {{\n",
       "               LetsPlot.buildPlotFromProcessedSpecs(plotSpec, -1, -1, plotContainer);\n",
       "           }});\n",
       "       })();    \n",
       "   </script>"
      ]
     },
     "execution_count": 25,
     "metadata": {},
     "output_type": "execute_result"
    }
   ],
   "source": [
    "val perMonthPlot = mapOf(\n",
    "    month to accidentsPerMonth[month].asStrings().toList(),\n",
    "    \"count\" to accidentsPerMonth[\"n\"].asInts().toList()\n",
    ")\n",
    "\n",
    "lets_plot(perMonthPlot) +\n",
    "    geom_bar(stat = Stat.identity) {\n",
    "        x = month; y = \"count\"\n",
    "    }"
   ]
  },
  {
   "cell_type": "markdown",
   "metadata": {},
   "source": [
    "### ¿Cuál es el tipo de accidente más común?"
   ]
  },
  {
   "cell_type": "code",
   "execution_count": 26,
   "metadata": {},
   "outputs": [],
   "source": [
    "val accidentsPerEventType = events\n",
    "    .groupBy(event)\n",
    "    .count()\n",
    "    .sortedByDescending(\"n\")"
   ]
  },
  {
   "cell_type": "code",
   "execution_count": 27,
   "metadata": {},
   "outputs": [
    {
     "data": {
      "text/html": [
       "   <div id=\"0RIHNq\"></div>\n",
       "   <script type=\"text/javascript\" data-lets-plot-script=\"plot\">\n",
       "       (function() {\n",
       "           var plotSpec={\n",
       "'mapping':{\n",
       "},\n",
       "'data':{\n",
       "'count':[3623.0,2102.0,593.0,407.0,188.0,131.0,3.0],\n",
       "'event':[\"Colisión\",\"Atropello\",\"Choque\",\"Derrape\",\"Vuelco\",\"Caída\",\"Ignorado\"]\n",
       "},\n",
       "'kind':\"plot\",\n",
       "'scales':[],\n",
       "'layers':[{\n",
       "'stat':\"identity\",\n",
       "'mapping':{\n",
       "'x':\"event\",\n",
       "'y':\"count\"\n",
       "},\n",
       "'data':{\n",
       "},\n",
       "'position':\"stack\",\n",
       "'geom':\"bar\"\n",
       "}]\n",
       "};\n",
       "           var plotContainer = document.getElementById(\"0RIHNq\");\n",
       "           window.letsPlotCall(function() {{\n",
       "               LetsPlot.buildPlotFromProcessedSpecs(plotSpec, -1, -1, plotContainer);\n",
       "           }});\n",
       "       })();    \n",
       "   </script>"
      ]
     },
     "execution_count": 27,
     "metadata": {},
     "output_type": "execute_result"
    }
   ],
   "source": [
    "val perEventPlot = mapOf(\n",
    "    event to accidentsPerEventType[event].asStrings().toList(),\n",
    "    \"count\" to accidentsPerEventType[\"n\"].asInts().toList()\n",
    ")\n",
    "\n",
    "lets_plot(perEventPlot) +\n",
    "    geom_bar(stat = Stat.identity) {\n",
    "        x = event; y = \"count\"\n",
    "    }"
   ]
  },
  {
   "cell_type": "markdown",
   "metadata": {},
   "source": [
    "### Accidentes durante el dia "
   ]
  },
  {
   "cell_type": "code",
   "execution_count": 86,
   "metadata": {},
   "outputs": [
    {
     "data": {
      "text/html": [
       "<html><body><table><tr><th style=\"text-align:left\">time</th><th style=\"text-align:left\">zone</th><th style=\"text-align:left\">department</th><th style=\"text-align:left\">town</th><th style=\"text-align:left\">n</th></tr><tr><td style=\"text-align:left\" title=\"22\">22</td><td style=\"text-align:left\" title=\"99\">99</td><td style=\"text-align:left\" title=\"Guatemala\">Guatemala</td><td style=\"text-align:left\" title=\"Villa Nueva\">Villa Nueva</td><td style=\"text-align:left\" title=\"27\">27</td></tr><tr><td style=\"text-align:left\" title=\"22\">22</td><td style=\"text-align:left\" title=\"99\">99</td><td style=\"text-align:left\" title=\"Guatemala\">Guatemala</td><td style=\"text-align:left\" title=\"Mixco\">Mixco</td><td style=\"text-align:left\" title=\"27\">27</td></tr><tr><td style=\"text-align:left\" title=\"21\">21</td><td style=\"text-align:left\" title=\"99\">99</td><td style=\"text-align:left\" title=\"Guatemala\">Guatemala</td><td style=\"text-align:left\" title=\"Mixco\">Mixco</td><td style=\"text-align:left\" title=\"26\">26</td></tr><tr><td style=\"text-align:left\" title=\"8\">8</td><td style=\"text-align:left\" title=\"99\">99</td><td style=\"text-align:left\" title=\"Guatemala\">Guatemala</td><td style=\"text-align:left\" title=\"Mixco\">Mixco</td><td style=\"text-align:left\" title=\"25\">25</td></tr><tr><td style=\"text-align:left\" title=\"11\">11</td><td style=\"text-align:left\" title=\"99\">99</td><td style=\"text-align:left\" title=\"Guatemala\">Guatemala</td><td style=\"text-align:left\" title=\"Mixco\">Mixco</td><td style=\"text-align:left\" title=\"23\">23</td></tr><tr><td style=\"text-align:left\" title=\"20\">20</td><td style=\"text-align:left\" title=\"99\">99</td><td style=\"text-align:left\" title=\"Guatemala\">Guatemala</td><td style=\"text-align:left\" title=\"Mixco\">Mixco</td><td style=\"text-align:left\" title=\"23\">23</td></tr><tr><td style=\"text-align:left\" title=\"1\">1</td><td style=\"text-align:left\" title=\"99\">99</td><td style=\"text-align:left\" title=\"Guatemala\">Guatemala</td><td style=\"text-align:left\" title=\"Villa Nueva\">Villa Nueva</td><td style=\"text-align:left\" title=\"22\">22</td></tr><tr><td style=\"text-align:left\" title=\"23\">23</td><td style=\"text-align:left\" title=\"99\">99</td><td style=\"text-align:left\" title=\"Guatemala\">Guatemala</td><td style=\"text-align:left\" title=\"Mixco\">Mixco</td><td style=\"text-align:left\" title=\"22\">22</td></tr><tr><td style=\"text-align:left\" title=\"2\">2</td><td style=\"text-align:left\" title=\"99\">99</td><td style=\"text-align:left\" title=\"Guatemala\">Guatemala</td><td style=\"text-align:left\" title=\"Mixco\">Mixco</td><td style=\"text-align:left\" title=\"22\">22</td></tr><tr><td style=\"text-align:left\" title=\"1\">1</td><td style=\"text-align:left\" title=\"99\">99</td><td style=\"text-align:left\" title=\"Guatemala\">Guatemala</td><td style=\"text-align:left\" title=\"Mixco\">Mixco</td><td style=\"text-align:left\" title=\"22\">22</td></tr><tr><td style=\"text-align:left\" title=\"7\">7</td><td style=\"text-align:left\" title=\"99\">99</td><td style=\"text-align:left\" title=\"Guatemala\">Guatemala</td><td style=\"text-align:left\" title=\"Mixco\">Mixco</td><td style=\"text-align:left\" title=\"21\">21</td></tr><tr><td style=\"text-align:left\" title=\"20\">20</td><td style=\"text-align:left\" title=\"99\">99</td><td style=\"text-align:left\" title=\"Guatemala\">Guatemala</td><td style=\"text-align:left\" title=\"Villa Nueva\">Villa Nueva</td><td style=\"text-align:left\" title=\"20\">20</td></tr><tr><td style=\"text-align:left\" title=\"15\">15</td><td style=\"text-align:left\" title=\"99\">99</td><td style=\"text-align:left\" title=\"Guatemala\">Guatemala</td><td style=\"text-align:left\" title=\"Mixco\">Mixco</td><td style=\"text-align:left\" title=\"20\">20</td></tr><tr><td style=\"text-align:left\" title=\"19\">19</td><td style=\"text-align:left\" title=\"1\">1</td><td style=\"text-align:left\" title=\"Guatemala\">Guatemala</td><td style=\"text-align:left\" title=\"Guatemala \">Guatemala </td><td style=\"text-align:left\" title=\"20\">20</td></tr><tr><td style=\"text-align:left\" title=\"23\">23</td><td style=\"text-align:left\" title=\"99\">99</td><td style=\"text-align:left\" title=\"Guatemala\">Guatemala</td><td style=\"text-align:left\" title=\"Villa Nueva\">Villa Nueva</td><td style=\"text-align:left\" title=\"19\">19</td></tr><tr><td style=\"text-align:left\" title=\"23\">23</td><td style=\"text-align:left\" title=\"7\">7</td><td style=\"text-align:left\" title=\"Guatemala\">Guatemala</td><td style=\"text-align:left\" title=\"Guatemala \">Guatemala </td><td style=\"text-align:left\" title=\"19\">19</td></tr><tr><td style=\"text-align:left\" title=\"19\">19</td><td style=\"text-align:left\" title=\"99\">99</td><td style=\"text-align:left\" title=\"Guatemala\">Guatemala</td><td style=\"text-align:left\" title=\"Mixco\">Mixco</td><td style=\"text-align:left\" title=\"18\">18</td></tr><tr><td style=\"text-align:left\" title=\"16\">16</td><td style=\"text-align:left\" title=\"99\">99</td><td style=\"text-align:left\" title=\"Guatemala\">Guatemala</td><td style=\"text-align:left\" title=\"Mixco\">Mixco</td><td style=\"text-align:left\" title=\"18\">18</td></tr><tr><td style=\"text-align:left\" title=\"15\">15</td><td style=\"text-align:left\" title=\"1\">1</td><td style=\"text-align:left\" title=\"Guatemala\">Guatemala</td><td style=\"text-align:left\" title=\"Guatemala \">Guatemala </td><td style=\"text-align:left\" title=\"18\">18</td></tr><tr><td style=\"text-align:left\" title=\"21\">21</td><td style=\"text-align:left\" title=\"7\">7</td><td style=\"text-align:left\" title=\"Guatemala\">Guatemala</td><td style=\"text-align:left\" title=\"Guatemala \">Guatemala </td><td style=\"text-align:left\" title=\"18\">18</td></tr></table><p>... only showing top 20 rows</p></body></html>"
      ]
     },
     "execution_count": 86,
     "metadata": {},
     "output_type": "execute_result"
    }
   ],
   "source": [
    "val accidentsPerHourPerLocation = events\n",
    "    .groupBy(time, zone, department, town)\n",
    "    .count()\n",
    "    .sortedByDescending(\"n\")\n",
    "accidentsPerHourPerLocation"
   ]
  },
  {
   "cell_type": "code",
   "execution_count": 155,
   "metadata": {},
   "outputs": [
    {
     "data": {
      "text/html": [
       "   <div id=\"hhxqtf\"></div>\n",
       "   <script type=\"text/javascript\" data-lets-plot-script=\"plot\">\n",
       "       (function() {\n",
       "           var plotSpec={\n",
       "'mapping':{\n",
       "},\n",
       "'data':{\n",
       "'Hora':[20.0,14.0,8.0,18.0,19.0,9.0,22.0,16.0,17.0,21.0,6.0,2.0,10.0,23.0,13.0,4.0,15.0,7.0,6.0,21.0,17.0,5.0,20.0,14.0,7.0,12.0,0.0,1.0,11.0,3.0,5.0,1.0,5.0,2.0,8.0,14.0,16.0,0.0,4.0,12.0,23.0,19.0,0.0,8.0,3.0,18.0,2.0,7.0,23.0,6.0,11.0,10.0,13.0,15.0,3.0,17.0,21.0,4.0,1.0,11.0,22.0,9.0,16.0,22.0,19.0,0.0,1.0,4.0,9.0,20.0,15.0,12.0,6.0,3.0,8.0,11.0,0.0,18.0,20.0,23.0,22.0,10.0,17.0,1.0,16.0,7.0,5.0,21.0,14.0,19.0,22.0,2.0,10.0,15.0,1.0,8.0,13.0,12.0,4.0,14.0,21.0,16.0,23.0,15.0,18.0,16.0,17.0,2.0,20.0,10.0,13.0,3.0,7.0,12.0,9.0,12.0,7.0,14.0,18.0,1.0,17.0,15.0,5.0,4.0,23.0,18.0,9.0,0.0,19.0,11.0,13.0,9.0,13.0,5.0,8.0,21.0,19.0,10.0,6.0,20.0,23.0,0.0,11.0,22.0,2.0,6.0,3.0],\n",
       "'Total':[252.0,140.0,134.0,238.0,241.0,112.0,223.0,176.0,216.0,221.0,92.0,81.0,120.0,177.0,151.0,56.0,173.0,21.0,49.0,148.0,129.0,50.0,174.0,84.0,125.0,123.0,176.0,116.0,156.0,52.0,72.0,38.0,12.0,30.0,27.0,14.0,18.0,43.0,4.0,88.0,112.0,210.0,63.0,79.0,15.0,151.0,42.0,63.0,46.0,17.0,16.0,62.0,94.0,84.0,27.0,43.0,33.0,20.0,6.0,77.0,29.0,59.0,91.0,113.0,34.0,4.0,47.0,18.0,11.0,28.0,23.0,11.0,10.0,17.0,11.0,8.0,27.0,26.0,24.0,25.0,21.0,6.0,11.0,39.0,12.0,15.0,17.0,4.0,9.0,21.0,8.0,23.0,10.0,9.0,5.0,5.0,12.0,14.0,11.0,15.0,20.0,8.0,9.0,13.0,28.0,10.0,7.0,4.0,8.0,10.0,13.0,1.0,12.0,10.0,9.0,12.0,2.0,9.0,11.0,1.0,5.0,14.0,2.0,2.0,1.0,11.0,2.0,1.0,16.0,6.0,9.0,9.0,5.0,4.0,9.0,9.0,8.0,3.0,6.0,3.0,8.0,4.0,7.0,3.0,2.0,5.0,1.0],\n",
       "'Tipo de evento':[\"Colisión\",\"Colisión\",\"Colisión\",\"Colisión\",\"Colisión\",\"Colisión\",\"Colisión\",\"Colisión\",\"Colisión\",\"Colisión\",\"Colisión\",\"Colisión\",\"Colisión\",\"Colisión\",\"Colisión\",\"Colisión\",\"Colisión\",\"Choque\",\"Atropello\",\"Atropello\",\"Atropello\",\"Atropello\",\"Atropello\",\"Atropello\",\"Colisión\",\"Colisión\",\"Colisión\",\"Colisión\",\"Colisión\",\"Colisión\",\"Colisión\",\"Choque\",\"Choque\",\"Choque\",\"Choque\",\"Choque\",\"Choque\",\"Choque\",\"Vuelco\",\"Atropello\",\"Atropello\",\"Atropello\",\"Atropello\",\"Atropello\",\"Atropello\",\"Atropello\",\"Atropello\",\"Atropello\",\"Choque\",\"Choque\",\"Choque\",\"Atropello\",\"Atropello\",\"Atropello\",\"Choque\",\"Choque\",\"Choque\",\"Choque\",\"Vuelco\",\"Atropello\",\"Choque\",\"Atropello\",\"Atropello\",\"Atropello\",\"Choque\",\"Vuelco\",\"Atropello\",\"Atropello\",\"Choque\",\"Choque\",\"Choque\",\"Caída\",\"Derrape\",\"Derrape\",\"Derrape\",\"Derrape\",\"Derrape\",\"Derrape\",\"Derrape\",\"Derrape\",\"Derrape\",\"Derrape\",\"Derrape\",\"Derrape\",\"Derrape\",\"Derrape\",\"Derrape\",\"Caída\",\"Caída\",\"Derrape\",\"Caída\",\"Derrape\",\"Choque\",\"Caída\",\"Caída\",\"Caída\",\"Derrape\",\"Derrape\",\"Derrape\",\"Derrape\",\"Derrape\",\"Caída\",\"Caída\",\"Derrape\",\"Choque\",\"Vuelco\",\"Vuelco\",\"Caída\",\"Vuelco\",\"Vuelco\",\"Choque\",\"Caída\",\"Vuelco\",\"Vuelco\",\"Derrape\",\"Choque\",\"Caída\",\"Vuelco\",\"Vuelco\",\"Ignorado\",\"Caída\",\"Vuelco\",\"Caída\",\"Caída\",\"Ignorado\",\"Caída\",\"Caída\",\"Ignorado\",\"Vuelco\",\"Caída\",\"Vuelco\",\"Vuelco\",\"Caída\",\"Vuelco\",\"Vuelco\",\"Vuelco\",\"Caída\",\"Caída\",\"Vuelco\",\"Caída\",\"Vuelco\",\"Caída\",\"Vuelco\",\"Vuelco\",\"Vuelco\",\"Caída\",\"Vuelco\"]\n",
       "},\n",
       "'kind':\"plot\",\n",
       "'scales':[],\n",
       "'layers':[{\n",
       "'stat':\"identity\",\n",
       "'mapping':{\n",
       "'color':\"Tipo de evento\",\n",
       "'x':\"Hora\",\n",
       "'y':\"Total\"\n",
       "},\n",
       "'size':1.2,\n",
       "'data':{\n",
       "},\n",
       "'linetype':\"dashed\",\n",
       "'position':\"identity\",\n",
       "'geom':\"line\"\n",
       "}]\n",
       "};\n",
       "           var plotContainer = document.getElementById(\"hhxqtf\");\n",
       "           window.letsPlotCall(function() {{\n",
       "               LetsPlot.buildPlotFromProcessedSpecs(plotSpec, -1, -1, plotContainer);\n",
       "           }});\n",
       "       })();    \n",
       "   </script>"
      ]
     },
     "execution_count": 155,
     "metadata": {},
     "output_type": "execute_result"
    }
   ],
   "source": [
    "val perHourEvents = mapOf(\n",
    "    \"Hora\" to accidentsPerHourPerDayOfweek[time].asInts(),\n",
    "    \"Tipo de evento\" to accidentsPerHourPerDayOfweek[event].asStrings(),\n",
    "    \"Total\" to accidentsPerHourPerDayOfweek[\"n\"].asInts()\n",
    ")\n",
    "lets_plot(perHourEvents) +\n",
    "    geom_line(linetype=\"dashed\", size=1.2){\n",
    "        x = \"Hora\"; y = \"Total\"\n",
    "        color = \"Tipo de evento\"\n",
    "    }"
   ]
  },
  {
   "cell_type": "markdown",
   "metadata": {},
   "source": [
    "### Accidentes por lugar"
   ]
  },
  {
   "cell_type": "code",
   "execution_count": 167,
   "metadata": {},
   "outputs": [],
   "source": [
    "val departmentsWithMoreEvents = events\n",
    "    .groupBy(department)\n",
    "    .count()\n",
    "    .sortedByDescending(\"n\")\n",
    "    .filter { !it[department].eq(\"Guatemala\") }\n",
    "    .take(5)[department].asStrings()\n",
    "\n",
    "val topTownsPerDepartment = events\n",
    "    .filter { it[department].isMatching<String> { this in departmentsWithMoreEvents } }\n",
    "    .groupBy(department, town)\n",
    "    .count()\n",
    "    .sortedByDescending(\"n\")\n",
    "    .take(20)"
   ]
  },
  {
   "cell_type": "code",
   "execution_count": 168,
   "metadata": {},
   "outputs": [
    {
     "data": {
      "text/html": [
       "   <div id=\"hcDPZd\"></div>\n",
       "   <script type=\"text/javascript\" data-lets-plot-script=\"plot\">\n",
       "       (function() {\n",
       "           var plotSpec={\n",
       "'mapping':{\n",
       "},\n",
       "'data':{\n",
       "'Municipio':[\"Escuintla\",\"Chimaltenango\",\"Cobán\",\"Puerto Barrios\",\"Morales\",\"Santa Lucía Cotzumalguapa\",\"Antigua Guatemala\",\"Chisec\",\"San José\",\"Palín\",\"El Estor\",\"San Lucas Sacatepéquez\",\"Nueva Concepción\",\"Ciudad Vieja\",\"Patzicía\",\"Livingston\",\"Santa Cruz Verapaz\",\"Tiquisate\",\"Sumpango\",\"San Pedro Carchá\"],\n",
       "'Total':[183.0,111.0,90.0,88.0,60.0,57.0,47.0,37.0,37.0,36.0,32.0,32.0,31.0,31.0,30.0,28.0,28.0,28.0,28.0,27.0],\n",
       "'Departamento':[\"Escuintla\",\"Chimaltenango\",\"Alta Verapaz\",\"Izabal\",\"Izabal\",\"Escuintla\",\"Sacatepéquez\",\"Alta Verapaz\",\"Escuintla\",\"Escuintla\",\"Izabal\",\"Sacatepéquez\",\"Escuintla\",\"Sacatepéquez\",\"Chimaltenango\",\"Izabal\",\"Alta Verapaz\",\"Escuintla\",\"Sacatepéquez\",\"Alta Verapaz\"]\n",
       "},\n",
       "'kind':\"plot\",\n",
       "'scales':[],\n",
       "'layers':[{\n",
       "'stat':\"identity\",\n",
       "'mapping':{\n",
       "'color':\"Municipio\",\n",
       "'x':\"Departamento\",\n",
       "'y':\"Total\"\n",
       "},\n",
       "'data':{\n",
       "},\n",
       "'position':\"stack\",\n",
       "'geom':\"bar\"\n",
       "}]\n",
       "};\n",
       "           var plotContainer = document.getElementById(\"hcDPZd\");\n",
       "           window.letsPlotCall(function() {{\n",
       "               LetsPlot.buildPlotFromProcessedSpecs(plotSpec, -1, -1, plotContainer);\n",
       "           }});\n",
       "       })();    \n",
       "   </script>"
      ]
     },
     "execution_count": 168,
     "metadata": {},
     "output_type": "execute_result"
    }
   ],
   "source": [
    "val topTownsPerDepartmentPlot = mapOf(\n",
    "    \"Departamento\" to topTownsPerDepartment[department].asStrings(),\n",
    "    \"Municipio\" to topTownsPerDepartment[town].asStrings(),\n",
    "    \"Total\" to topTownsPerDepartment[\"n\"].asInts(),\n",
    ")\n",
    "lets_plot(topTownsPerDepartmentPlot) +\n",
    "    geom_bar(stat = Stat.identity) {\n",
    "        x = \"Departamento\"; y = \"Total\"\n",
    "        color = \"Municipio\"\n",
    "    }"
   ]
  },
  {
   "cell_type": "markdown",
   "metadata": {},
   "source": [
    "##  ¿Qué datos pueden mejorar el dataset?"
   ]
  },
  {
   "cell_type": "markdown",
   "metadata": {},
   "source": [
    "- Ubicación (latitud y longitud)\n",
    "- Edad del conductor\n",
    "- Nivel de alcohol del conductor\n",
    "- Condiciones del clima\n",
    "- Velocidad del automóvil al momento del accidente\n",
    "- Límites de velocidad de la zona del accidente\n",
    "- Condiciones de luz en la zona del accidente\n",
    "- Área (rural o urbana)\n",
    "- Tipo de carretera (asfalto, terracería, *etc*)\n"
   ]
  }
 ],
 "metadata": {
  "kernelspec": {
   "display_name": "Kotlin",
   "language": "kotlin",
   "name": "kotlin"
  },
  "language_info": {
   "codemirror_mode": "text/x-kotlin",
   "file_extension": ".kt",
   "mimetype": "text/x-kotlin",
   "name": "kotlin",
   "pygments_lexer": "kotlin",
   "version": "1.4.20-dev-2342"
  }
 },
 "nbformat": 4,
 "nbformat_minor": 4
}
